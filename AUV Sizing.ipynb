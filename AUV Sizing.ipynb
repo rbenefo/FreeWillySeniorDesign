{
 "cells": [
  {
   "cell_type": "code",
   "execution_count": 1,
   "metadata": {},
   "outputs": [],
   "source": [
    "import numpy as np\n",
    "import matplotlib.pyplot as plt"
   ]
  },
  {
   "cell_type": "code",
   "execution_count": 59,
   "metadata": {},
   "outputs": [
    {
     "name": "stdout",
     "output_type": "stream",
     "text": [
      "0.1986716534556202\n",
      "1\n"
     ]
    }
   ],
   "source": [
    "fus_area = 0.031 #M^2 #variable\n",
    "etabar = 0.02#variable\n",
    "fus_diameter = np.sqrt(fus_area/np.pi)*2\n",
    "r_fus = fus_diameter/2\n",
    "number_of_syringe = 4\n",
    "\n",
    "fus_length = 1\n",
    "print(fus_diameter)\n",
    "print(fus_length)\n",
    "#fus_length =0.5#variable"
   ]
  },
  {
   "cell_type": "code",
   "execution_count": 60,
   "metadata": {},
   "outputs": [],
   "source": [
    "AR = 6 #variable\n",
    "e = 0.8\n",
    "K = 1/(np.pi*e*AR)\n",
    "S = 0.25\n",
    "Cdopod = 0.001523\n",
    "surfpod = 465265*1e-6\n",
    "surfpod_mult_cdopod = surfpod*Cdopod\n",
    "measuredarea = 1.2635\n",
    "Cdmeasured = 0.007978023466091704\n",
    "Cdo = (Cdmeasured*measuredarea)/S\n",
    "\n",
    "rho = 1000 #kg/M^3\n",
    "g = 9.81 #M/S^2\n",
    "lnb = fus_length/(etabar+1)"
   ]
  },
  {
   "cell_type": "code",
   "execution_count": 61,
   "metadata": {},
   "outputs": [
    {
     "name": "stdout",
     "output_type": "stream",
     "text": [
      "0.25\n"
     ]
    }
   ],
   "source": [
    "print(S)"
   ]
  },
  {
   "cell_type": "code",
   "execution_count": 62,
   "metadata": {},
   "outputs": [
    {
     "data": {
      "text/plain": [
       "0.04032093059762747"
      ]
     },
     "execution_count": 62,
     "metadata": {},
     "output_type": "execute_result"
    }
   ],
   "source": [
    "Cdo"
   ]
  },
  {
   "cell_type": "code",
   "execution_count": 63,
   "metadata": {},
   "outputs": [
    {
     "name": "stdout",
     "output_type": "stream",
     "text": [
      "1.224744871391589\n"
     ]
    }
   ],
   "source": [
    "wingspan = np.sqrt(AR*S)\n",
    "print(wingspan)"
   ]
  },
  {
   "cell_type": "code",
   "execution_count": 64,
   "metadata": {},
   "outputs": [],
   "source": [
    "V_fus = fus_area*fus_length\n",
    "V_fp = 0.0006777"
   ]
  },
  {
   "cell_type": "code",
   "execution_count": 65,
   "metadata": {},
   "outputs": [
    {
     "name": "stdout",
     "output_type": "stream",
     "text": [
      "0.24936513761897036\n"
     ]
    }
   ],
   "source": [
    "Vmd = np.sqrt(2*(etabar/(1+etabar))*(V_fus+V_fp)*1/(S)*(1/np.sqrt(4*Cdo**2+Cdo/K))*g)\n",
    "print(Vmd)"
   ]
  },
  {
   "cell_type": "code",
   "execution_count": 66,
   "metadata": {},
   "outputs": [
    {
     "data": {
      "text/plain": [
       "0.007730319266188081"
      ]
     },
     "execution_count": 66,
     "metadata": {},
     "output_type": "execute_result"
    }
   ],
   "source": [
    "Vmd*fus_area"
   ]
  },
  {
   "cell_type": "code",
   "execution_count": 67,
   "metadata": {},
   "outputs": [
    {
     "data": {
      "text/plain": [
       "0.0993358267278101"
      ]
     },
     "execution_count": 67,
     "metadata": {},
     "output_type": "execute_result"
    }
   ],
   "source": [
    "np.sqrt(fus_area/np.pi)"
   ]
  },
  {
   "cell_type": "code",
   "execution_count": null,
   "metadata": {},
   "outputs": [],
   "source": []
  },
  {
   "cell_type": "code",
   "execution_count": 68,
   "metadata": {},
   "outputs": [
    {
     "data": {
      "text/plain": [
       "0.010000000000000002"
      ]
     },
     "execution_count": 68,
     "metadata": {},
     "output_type": "execute_result"
    }
   ],
   "source": [
    "0.1*0.1"
   ]
  },
  {
   "cell_type": "code",
   "execution_count": 69,
   "metadata": {},
   "outputs": [
    {
     "name": "stdout",
     "output_type": "stream",
     "text": [
      "2621658.813500775\n"
     ]
    }
   ],
   "source": [
    "seconds_to_year = 3.154*10**7\n",
    "yearfraction = 4/12 #run for one month\n",
    "Range = Vmd*seconds_to_year*yearfraction #variable\n",
    "print(Range)"
   ]
  },
  {
   "cell_type": "code",
   "execution_count": 70,
   "metadata": {},
   "outputs": [],
   "source": [
    "Ep = Range*(np.pi/2)*rho*g*fus_diameter**2*(etabar/(1+etabar))*fus_length*np.sqrt(K*Cdo)"
   ]
  },
  {
   "cell_type": "code",
   "execution_count": 71,
   "metadata": {},
   "outputs": [],
   "source": [
    "joule_to_watthour = 1/3600\n",
    "energy_density_lipo = 150 #Wh/kg"
   ]
  },
  {
   "cell_type": "code",
   "execution_count": 72,
   "metadata": {},
   "outputs": [
    {
     "name": "stdout",
     "output_type": "stream",
     "text": [
      "2.9939369536132148\n"
     ]
    }
   ],
   "source": [
    "batterymass = Ep*joule_to_watthour*(1/energy_density_lipo)\n",
    "print(batterymass)\n",
    "Wbatt = batterymass*g"
   ]
  },
  {
   "cell_type": "markdown",
   "metadata": {},
   "source": [
    "SIDE CALC:"
   ]
  },
  {
   "cell_type": "code",
   "execution_count": 73,
   "metadata": {},
   "outputs": [
    {
     "name": "stdout",
     "output_type": "stream",
     "text": [
      "2.6881220210399674\n"
     ]
    }
   ],
   "source": [
    "p = 3613 #filter characterization pressure\n",
    "equiv_v = np.sqrt(p*2/rho)\n",
    "print(equiv_v)\n",
    "del p"
   ]
  },
  {
   "cell_type": "code",
   "execution_count": 74,
   "metadata": {},
   "outputs": [],
   "source": [
    "rho_alum = 2700 #alum 6061 density: 2700 kg/m^3\n",
    "t = 0.003175 #0.125 inches in meters"
   ]
  },
  {
   "cell_type": "code",
   "execution_count": 75,
   "metadata": {},
   "outputs": [
    {
     "name": "stdout",
     "output_type": "stream",
     "text": [
      "29.846745394725367\n",
      "1.8297899999999998\n"
     ]
    }
   ],
   "source": [
    "Wtot = lnb*rho*g*r_fus**2*np.pi\n",
    "V_metal_fus = 2*np.pi*r_fus*t*fus_length\n",
    "W_fus = V_metal_fus*rho_alum\n",
    "Wother = Wtot-W_fus\n",
    "print(Wother/g)\n",
    "W_fp = V_fp*rho_alum*g\n",
    "print(W_fp/g)"
   ]
  },
  {
   "cell_type": "code",
   "execution_count": 76,
   "metadata": {},
   "outputs": [
    {
     "name": "stdout",
     "output_type": "stream",
     "text": [
      "30.3921568627451\n"
     ]
    }
   ],
   "source": [
    "print(Wtot/g)"
   ]
  },
  {
   "cell_type": "code",
   "execution_count": 77,
   "metadata": {},
   "outputs": [
    {
     "name": "stdout",
     "output_type": "stream",
     "text": [
      "Mass of filter pod: 1.8297899999999998\n",
      "Mass of battery: 2.9939369536132148\n",
      "Mass of fuselage: 0.5454114680197337\n",
      "Mass of all else: 25.023018441112153\n"
     ]
    }
   ],
   "source": [
    "print(\"Mass of filter pod:\",W_fp/g)\n",
    "print(\"Mass of battery:\", Wbatt/g)\n",
    "print(\"Mass of fuselage:\", W_fus/g)\n",
    "Mass_misc = Wother/g-V_fp*rho_alum-Wbatt/g\n",
    "print(\"Mass of all else:\", Mass_misc)"
   ]
  },
  {
   "cell_type": "code",
   "execution_count": 78,
   "metadata": {},
   "outputs": [
    {
     "name": "stdout",
     "output_type": "stream",
     "text": [
      "Fuselage Diameter (m) 0.1986716534556202\n",
      "Fuselage Length (m) 1\n"
     ]
    }
   ],
   "source": [
    "print(\"Fuselage Diameter (m)\", fus_diameter)\n",
    "print(\"Fuselage Length (m)\", fus_length)"
   ]
  },
  {
   "cell_type": "code",
   "execution_count": 79,
   "metadata": {},
   "outputs": [
    {
     "data": {
      "text/plain": [
       "0.9803921568627451"
      ]
     },
     "execution_count": 79,
     "metadata": {},
     "output_type": "execute_result"
    }
   ],
   "source": [
    "lnb"
   ]
  },
  {
   "cell_type": "code",
   "execution_count": 80,
   "metadata": {},
   "outputs": [
    {
     "name": "stdout",
     "output_type": "stream",
     "text": [
      "Velocity: 0.24936513761897036\n",
      "Expected pressure (Pa): 31.091485929864014\n",
      "Approx needed velocity for flow: 2.6881220210399674\n",
      "Range: 2621658.813500775\n",
      "Flight Time (years): 0.3333333333333333\n"
     ]
    }
   ],
   "source": [
    "print(\"Velocity:\", Vmd)\n",
    "print(\"Expected pressure (Pa):\", 0.5*rho*Vmd**2)\n",
    "print(\"Approx needed velocity for flow:\", equiv_v)\n",
    "print(\"Range:\", Range)\n",
    "print(\"Flight Time (years):\",yearfraction)"
   ]
  },
  {
   "cell_type": "code",
   "execution_count": 81,
   "metadata": {},
   "outputs": [
    {
     "name": "stdout",
     "output_type": "stream",
     "text": [
      "Syringe Total Volume (L): 1.2156862745098065\n",
      "Number of Syringe: 4\n",
      "Volume per syringe (m^3): 0.0003039215686274516\n",
      "Volume per syringe (L): 0.3039215686274516\n"
     ]
    }
   ],
   "source": [
    "syringe_total_vol = 2*(fus_length-lnb)*fus_area\n",
    "print(\"Syringe Total Volume (L):\", syringe_total_vol*1000)\n",
    "print(\"Number of Syringe:\", number_of_syringe)\n",
    "vol_per_syringe = syringe_total_vol/number_of_syringe\n",
    "print(\"Volume per syringe (m^3):\", vol_per_syringe)\n",
    "print(\"Volume per syringe (L):\", vol_per_syringe*1000)"
   ]
  },
  {
   "cell_type": "code",
   "execution_count": null,
   "metadata": {},
   "outputs": [],
   "source": []
  },
  {
   "cell_type": "code",
   "execution_count": 55,
   "metadata": {},
   "outputs": [
    {
     "data": {
      "text/plain": [
       "0.33333333333333326"
      ]
     },
     "execution_count": 55,
     "metadata": {},
     "output_type": "execute_result"
    }
   ],
   "source": [
    "syringe_total_vol/fus_area"
   ]
  },
  {
   "cell_type": "code",
   "execution_count": 56,
   "metadata": {},
   "outputs": [
    {
     "data": {
      "text/plain": [
       "10.333333333333336"
      ]
     },
     "execution_count": 56,
     "metadata": {},
     "output_type": "execute_result"
    }
   ],
   "source": [
    " 2*(etabar)*lnb*fus_area*1000"
   ]
  },
  {
   "cell_type": "code",
   "execution_count": 57,
   "metadata": {},
   "outputs": [],
   "source": [
    "delta_z = 10\n",
    "delta_E = np.pi/2*(rho*g*delta_z*fus_diameter**2*(etabar/(etabar+1)))*fus_length\n",
    "pump_time = 10\n",
    "power_needed = delta_E/pump_time\n",
    "Voltage = 40\n",
    "curr = power_needed/Voltage"
   ]
  },
  {
   "cell_type": "code",
   "execution_count": 58,
   "metadata": {},
   "outputs": [
    {
     "name": "stdout",
     "output_type": "stream",
     "text": [
      "Change in Energy per pump: 1013.7000000000002\n",
      "Power Needed (W): 101.37000000000002\n",
      "Current: 2.5342500000000006\n"
     ]
    }
   ],
   "source": [
    "print(\"Change in Energy per pump:\",delta_E)\n",
    "print(\"Power Needed (W):\",power_needed)\n",
    "print(\"Current:\", curr)"
   ]
  },
  {
   "cell_type": "markdown",
   "metadata": {},
   "source": [
    "# Comsol Cylinder Drag Coefficient Test (flow into face of cylinder)"
   ]
  },
  {
   "cell_type": "code",
   "execution_count": 29,
   "metadata": {},
   "outputs": [
    {
     "name": "stdout",
     "output_type": "stream",
     "text": [
      "0.12511118898083506\n"
     ]
    }
   ],
   "source": [
    "measuredD = 9283\n",
    "testvel = 2\n",
    "Smeasured = 37.099\n",
    "Cdmeasured = 2*measuredD/(rho*testvel**2*Smeasured)\n",
    "print(Cdmeasured)\n",
    "del measuredD\n",
    "del testvel\n",
    "del Smeasured\n",
    "del Cdmeasured"
   ]
  },
  {
   "cell_type": "markdown",
   "metadata": {},
   "source": [
    "# Comsol Aerodynamic Cylinder Drag Coefficient Test (flow into face of cylinder with rounded nosecone)"
   ]
  },
  {
   "cell_type": "code",
   "execution_count": 30,
   "metadata": {},
   "outputs": [
    {
     "name": "stdout",
     "output_type": "stream",
     "text": [
      "0.0217673166109809\n"
     ]
    }
   ],
   "source": [
    "measuredD = 8730\n",
    "testvel = 2\n",
    "Smeasured = 200.53\n",
    "Cdmeasured = 2*measuredD/(rho*testvel**2*Smeasured)\n",
    "print(Cdmeasured)\n",
    "del measuredD\n",
    "del testvel\n",
    "del Smeasured\n",
    "del Cdmeasured"
   ]
  },
  {
   "cell_type": "markdown",
   "metadata": {},
   "source": [
    "# Comsol Vehicle Drag Coefficient Test"
   ]
  },
  {
   "cell_type": "code",
   "execution_count": 31,
   "metadata": {},
   "outputs": [
    {
     "name": "stdout",
     "output_type": "stream",
     "text": [
      "0.007978023466091704\n"
     ]
    }
   ],
   "source": [
    "measuredD = 3.7886\n",
    "testvel = 0.867\n",
    "Smeasured = 1.2635\n",
    "Cdmeasured = 2*measuredD/(rho*testvel**2*Smeasured)\n",
    "print(Cdmeasured)\n",
    "del measuredD\n",
    "del testvel\n",
    "del Smeasured\n",
    "del Cdmeasured"
   ]
  },
  {
   "cell_type": "code",
   "execution_count": null,
   "metadata": {},
   "outputs": [],
   "source": []
  }
 ],
 "metadata": {
  "kernelspec": {
   "display_name": "Python 3",
   "language": "python",
   "name": "python3"
  },
  "language_info": {
   "codemirror_mode": {
    "name": "ipython",
    "version": 3
   },
   "file_extension": ".py",
   "mimetype": "text/x-python",
   "name": "python",
   "nbconvert_exporter": "python",
   "pygments_lexer": "ipython3",
   "version": "3.7.3"
  }
 },
 "nbformat": 4,
 "nbformat_minor": 2
}
